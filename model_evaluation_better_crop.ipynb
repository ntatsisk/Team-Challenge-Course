{
 "cells": [
  {
   "cell_type": "code",
   "execution_count": 1,
   "metadata": {},
   "outputs": [
    {
     "name": "stderr",
     "output_type": "stream",
     "text": [
      "Using TensorFlow backend.\n"
     ]
    }
   ],
   "source": [
    "from keras.models import model_from_json\n",
    "import keras\n",
    "from keras.optimizers import Adam\n",
    "import numpy as np\n",
    "import copy\n",
    "import matplotlib.pyplot as plt\n",
    "np.random.seed(0)\n",
    "import pandas as pd\n",
    "import ast\n",
    "import os\n",
    "\n",
    "from calculate_metrics import *"
   ]
  },
  {
   "cell_type": "code",
   "execution_count": 2,
   "metadata": {},
   "outputs": [
    {
     "name": "stdout",
     "output_type": "stream",
     "text": [
      "Model has been loaded\n"
     ]
    }
   ],
   "source": [
    "# Load model\n",
    "with open(\"model.json\") as json_file:\n",
    "    loaded_model_json = json_file.read()\n",
    "loaded_model = model_from_json(loaded_model_json)\n",
    "\n",
    "# Load weights\n",
    "loaded_model.load_weights(\"model_weights.h5\")\n",
    "print(\"Model has been loaded\")"
   ]
  },
  {
   "cell_type": "code",
   "execution_count": 3,
   "metadata": {},
   "outputs": [],
   "source": [
    "loaded_model.compile(optimizer = Adam(lr = 1e-4), loss = 'binary_crossentropy', metrics = ['accuracy'])"
   ]
  },
  {
   "cell_type": "markdown",
   "metadata": {},
   "source": [
    "## Load the data"
   ]
  },
  {
   "cell_type": "code",
   "execution_count": 4,
   "metadata": {},
   "outputs": [
    {
     "name": "stdout",
     "output_type": "stream",
     "text": [
      "Loading the data ...\n",
      "\n",
      "\n",
      "Image data has size: (1902, 128, 128)\n",
      "Ground truth has size: (1902, 128, 128)\n",
      "Reshaped image data has size: (1902, 128, 128, 1)\n",
      "Reshaped ground truth has size: (1902, 128, 128, 1)\n",
      "\n",
      "\n",
      "The array of patient IDs has shape:  (1902,)\n",
      "The train set consists of 1334 slices\n",
      "The validation set consists of 298 slices\n",
      "The test set consists of 270 slices\n"
     ]
    }
   ],
   "source": [
    "rescale_bool = True\n",
    "# Load the data\n",
    "print(\"Loading the data ...\\n\\n\")\n",
    "if rescale_bool:\n",
    "    images = np.load(\"cropped_rescaled_images.npy\")\n",
    "    images_gt = np.load(\"cropped_rescaled_images_gt.npy\")\n",
    "else:\n",
    "    images = np.load(\"cropped_images.npy\")\n",
    "    images_gt = np.load(\"cropped_images_gt.npy\")\n",
    "\n",
    "print(\"Image data has size: {}\".format(images.shape))\n",
    "print(\"Ground truth has size: {}\".format(images_gt.shape))\n",
    "\n",
    "# For now keep only the labels of the Left Venctricle (removes RV, myocardium)\n",
    "images_gt[images_gt != 3] = 0\n",
    "images_gt[images_gt == 3] = 1\n",
    "\n",
    "# Scale data and convert to 4D (requirement: for the conv2d training)\n",
    "images = images / np.amax(images) # scale\n",
    "images = np.reshape(images, newshape=(*images.shape, 1))\n",
    "images_gt = np.reshape(images_gt, newshape=(*images_gt.shape, 1))\n",
    "\n",
    "print(\"Reshaped image data has size: {}\".format(images.shape))\n",
    "print(\"Reshaped ground truth has size: {}\\n\\n\".format(images_gt.shape))\n",
    "\n",
    "# Load patient information\n",
    "patient_info = pd.read_csv(\"patient_info.csv\", converters={\"spacing\": ast.literal_eval,\"image_pixels\": ast.literal_eval }) # the converter is used to convert back the tuple\n",
    "\n",
    "id_list = patient_info[\"patient_id\"].to_numpy()\n",
    "image_sizes = patient_info[\"image_pixels\"].to_numpy()\n",
    "image_sizes = np.array([*image_sizes])\n",
    "z_dim = image_sizes[:,2]\n",
    "\n",
    "# Create an array of (1902,) where each row corresponds to the ID of every slice\n",
    "# of the dataset\n",
    "patient_id_array = np.array([])\n",
    "for patient_id in id_list:\n",
    "    patient_id_array = np.append(patient_id_array, np.full(shape=2*z_dim[patient_id-1], fill_value=patient_id))\n",
    "\n",
    "print(\"The array of patient IDs has shape: \", patient_id_array.shape)\n",
    "\n",
    "# Split dataset to train/valid/test based on patient ids (doesnt mix patient slices)\n",
    "# First split the ids\n",
    "np.random.seed(0) # seed for reproducability\n",
    "np.random.shuffle(id_list)\n",
    "train_ids = id_list[:70] # 70% - 15% - 15% split\n",
    "valid_ids = id_list[70:85]\n",
    "test_ids = id_list[85:]\n",
    "\n",
    "# Sort the split IDs (this is the order they are masked)\n",
    "train_ids = copy.deepcopy(np.sort(train_ids))\n",
    "valid_ids = copy.deepcopy(np.sort(valid_ids))\n",
    "test_ids = copy.deepcopy(np.sort(test_ids))\n",
    "\n",
    "# Create the id masks\n",
    "train_msk = np.isin(patient_id_array, train_ids)\n",
    "valid_msk = np.isin(patient_id_array, valid_ids)\n",
    "test_msk = np.isin(patient_id_array, test_ids)\n",
    "\n",
    "print(\"The train set consists of {} slices\".format(np.count_nonzero(train_msk)))\n",
    "print(\"The validation set consists of {} slices\".format(np.count_nonzero(valid_msk)))\n",
    "print(\"The test set consists of {} slices\".format(np.count_nonzero(test_msk)))\n",
    "\n",
    "# Now split the images based on the masks\n",
    "train_set = images[train_msk]\n",
    "train_set_gt = images_gt[train_msk]\n",
    "\n",
    "valid_set = images[valid_msk]\n",
    "valid_set_gt = images_gt[valid_msk]\n",
    "\n",
    "test_set = images[test_msk]\n",
    "test_set_gt = images_gt[test_msk]"
   ]
  },
  {
   "cell_type": "markdown",
   "metadata": {},
   "source": [
    "## Predict for validation"
   ]
  },
  {
   "cell_type": "code",
   "execution_count": 5,
   "metadata": {},
   "outputs": [],
   "source": [
    "###### Uncomment to save prediction for the validation #########\n",
    "if not(os.path.exists(\"prediction_scaled_crop.npy\")):\n",
    "    prediction = loaded_model.predict(valid_set, batch_size=64, verbose=1)\n",
    "    np.save(\"prediction_scaled_crop\", prediction)"
   ]
  },
  {
   "cell_type": "code",
   "execution_count": 6,
   "metadata": {},
   "outputs": [
    {
     "name": "stdout",
     "output_type": "stream",
     "text": [
      "(298, 128, 128)\n",
      "1.0\n"
     ]
    }
   ],
   "source": [
    "prediction = np.load(\"prediction_scaled_crop.npy\")\n",
    "prediction /= np.amax(prediction)\n",
    "prediction = prediction[:,:,:,0]\n",
    "print(prediction.shape)\n",
    "print(np.amax(prediction))\n",
    "\n",
    "valid_set = valid_set[:,:,:,0]\n",
    "valid_set_gt = valid_set_gt[:,:,:,0]\n",
    "valid_id_array = patient_id_array[valid_msk]"
   ]
  },
  {
   "cell_type": "code",
   "execution_count": 7,
   "metadata": {},
   "outputs": [
    {
     "name": "stdout",
     "output_type": "stream",
     "text": [
      "Patient 20 \tDice score: 0.7692241304910675 \tOptimal threshold: 0.99\n",
      "Patient 21 \tDice score: 0.9266583526337668 \tOptimal threshold: 0.999595\n",
      "Patient 26 \tDice score: 0.8762649779598932 \tOptimal threshold: 0.99\n",
      "Patient 30 \tDice score: 0.8929922809141819 \tOptimal threshold: 0.997777\n",
      "Patient 38 \tDice score: 0.9187682686425124 \tOptimal threshold: 0.99\n",
      "Patient 40 \tDice score: 0.928055664959958 \tOptimal threshold: 0.991717\n",
      "Patient 47 \tDice score: 0.7559926244622004 \tOptimal threshold: 0.99\n",
      "Patient 50 \tDice score: 0.9358048162230672 \tOptimal threshold: 0.99\n",
      "Patient 70 \tDice score: 0.9258997882851094 \tOptimal threshold: 0.997676\n",
      "Patient 73 \tDice score: 0.8443432042520881 \tOptimal threshold: 0.9997969999999999\n",
      "Patient 78 \tDice score: 0.948072272015934 \tOptimal threshold: 0.9991909999999999\n",
      "Patient 82 \tDice score: 0.9136681335749418 \tOptimal threshold: 0.999999\n",
      "Patient 95 \tDice score: 0.9291591072106662 \tOptimal threshold: 0.990404\n",
      "Patient 98 \tDice score: 0.9212924606462303 \tOptimal threshold: 0.995454\n",
      "Patient 99 \tDice score: 0.8960847081999508 \tOptimal threshold: 0.999898\n",
      "\n",
      "Mean dice score with threshold = 0.8921520526981044 (Validation Set)\n"
     ]
    }
   ],
   "source": [
    "index_start = 0\n",
    "dice_scores = []\n",
    "for patient_id in valid_ids:\n",
    "    index_end = index_start + 2*z_dim[patient_id-1]\n",
    "    opt_seg, opt_threshold, opt_dice = optimal_treshold(valid_set_gt[index_start:index_end], prediction[index_start:index_end])\n",
    "#     print(index_start, index_end)\n",
    "    index_start = index_end\n",
    "    print(\"Patient {} \\tDice score: {} \\tOptimal threshold: {}\".format(patient_id, opt_dice, opt_threshold))\n",
    "    dice_scores.append(opt_dice)\n",
    "    \n",
    "mean_dice_score = np.mean(dice_scores)\n",
    "print(\"\\nMean dice score with threshold = {} (Validation Set)\".format(mean_dice_score))"
   ]
  },
  {
   "cell_type": "markdown",
   "metadata": {},
   "source": [
    "## Predict for training set"
   ]
  },
  {
   "cell_type": "code",
   "execution_count": 8,
   "metadata": {},
   "outputs": [],
   "source": [
    "# Predict and save\n",
    "if not(os.path.exists(\"prediction_scaled_crop_train.npy\")):\n",
    "    prediction_train = loaded_model.predict(train_set, batch_size=64, verbose=1)\n",
    "    np.save(\"prediction_scaled_crop_train\", prediction_train)"
   ]
  },
  {
   "cell_type": "code",
   "execution_count": 9,
   "metadata": {},
   "outputs": [],
   "source": [
    "prediction_train = np.load(\"prediction_scaled_crop_train.npy\")\n",
    "\n",
    "prediction_train /= np.amax(prediction_train)\n",
    "prediction_train = prediction_train[:,:,:,0]\n",
    "\n",
    "train_set = train_set[:,:,:,0]\n",
    "train_set_gt  = train_set_gt[:,:,:,0]"
   ]
  },
  {
   "cell_type": "code",
   "execution_count": 10,
   "metadata": {},
   "outputs": [
    {
     "name": "stdout",
     "output_type": "stream",
     "text": [
      "(Train) Patient 1 \tDice score: 0.9722973915469382 \tOptimal threshold: 0.9990899999999999\n",
      "(Train) Patient 2 \tDice score: 0.9664041661374317 \tOptimal threshold: 0.993434\n",
      "(Train) Patient 3 \tDice score: 0.9693470560343626 \tOptimal threshold: 0.990202\n",
      "(Train) Patient 4 \tDice score: 0.9587178522868632 \tOptimal threshold: 0.999898\n",
      "(Train) Patient 5 \tDice score: 0.9649963770135443 \tOptimal threshold: 0.9953529999999999\n",
      "(Train) Patient 6 \tDice score: 0.9441375903722664 \tOptimal threshold: 0.9996959999999999\n",
      "(Train) Patient 7 \tDice score: 0.9689964245481706 \tOptimal threshold: 0.9990899999999999\n",
      "(Train) Patient 8 \tDice score: 0.9583853968598902 \tOptimal threshold: 0.9991909999999999\n",
      "(Train) Patient 9 \tDice score: 0.9752189194019182 \tOptimal threshold: 0.990303\n",
      "(Train) Patient 11 \tDice score: 0.9717389183388078 \tOptimal threshold: 0.998888\n",
      "(Train) Patient 12 \tDice score: 0.9773070288917637 \tOptimal threshold: 0.9996959999999999\n",
      "(Train) Patient 14 \tDice score: 0.9753269009554664 \tOptimal threshold: 0.99\n",
      "(Train) Patient 15 \tDice score: 0.959107180459044 \tOptimal threshold: 0.997979\n",
      "(Train) Patient 16 \tDice score: 0.9764284832777983 \tOptimal threshold: 0.998787\n",
      "(Train) Patient 17 \tDice score: 0.9700643682214972 \tOptimal threshold: 0.997171\n",
      "(Train) Patient 18 \tDice score: 0.9703365658870508 \tOptimal threshold: 0.994444\n",
      "(Train) Patient 19 \tDice score: 0.9686931124847467 \tOptimal threshold: 0.999898\n",
      "(Train) Patient 23 \tDice score: 0.9242915550542788 \tOptimal threshold: 0.997979\n",
      "(Train) Patient 24 \tDice score: 0.9041399158733673 \tOptimal threshold: 0.996969\n",
      "(Train) Patient 25 \tDice score: 0.9413346370080665 \tOptimal threshold: 0.9997969999999999\n",
      "(Train) Patient 27 \tDice score: 0.9307925370754265 \tOptimal threshold: 0.999595\n",
      "(Train) Patient 28 \tDice score: 0.931833910034602 \tOptimal threshold: 0.998282\n",
      "(Train) Patient 29 \tDice score: 0.9258762117822521 \tOptimal threshold: 0.993636\n",
      "(Train) Patient 31 \tDice score: 0.9483676480020524 \tOptimal threshold: 0.999595\n",
      "(Train) Patient 32 \tDice score: 0.9492935635792779 \tOptimal threshold: 0.997575\n",
      "(Train) Patient 33 \tDice score: 0.957983193277311 \tOptimal threshold: 0.994949\n",
      "(Train) Patient 34 \tDice score: 0.9157299015427552 \tOptimal threshold: 0.995555\n",
      "(Train) Patient 35 \tDice score: 0.953957267529341 \tOptimal threshold: 0.997171\n",
      "(Train) Patient 36 \tDice score: 0.9621096863000796 \tOptimal threshold: 0.991111\n",
      "(Train) Patient 39 \tDice score: 0.948220064724919 \tOptimal threshold: 0.99101\n",
      "(Train) Patient 41 \tDice score: 0.9294945198756748 \tOptimal threshold: 0.998383\n",
      "(Train) Patient 42 \tDice score: 0.9553124872931322 \tOptimal threshold: 0.993838\n",
      "(Train) Patient 43 \tDice score: 0.9580550549489382 \tOptimal threshold: 0.996767\n",
      "(Train) Patient 44 \tDice score: 0.935404339250493 \tOptimal threshold: 0.999999\n",
      "(Train) Patient 46 \tDice score: 0.9558571616813809 \tOptimal threshold: 0.999898\n",
      "(Train) Patient 49 \tDice score: 0.9509709671217074 \tOptimal threshold: 0.998282\n",
      "(Train) Patient 51 \tDice score: 0.9544256771350814 \tOptimal threshold: 0.999595\n",
      "(Train) Patient 52 \tDice score: 0.9487286805482892 \tOptimal threshold: 0.999999\n",
      "(Train) Patient 53 \tDice score: 0.9667111942292279 \tOptimal threshold: 0.99\n",
      "(Train) Patient 54 \tDice score: 0.9643649763410242 \tOptimal threshold: 0.994343\n",
      "(Train) Patient 55 \tDice score: 0.9243564773385271 \tOptimal threshold: 0.997575\n",
      "(Train) Patient 56 \tDice score: 0.9673016496465043 \tOptimal threshold: 0.998686\n",
      "(Train) Patient 57 \tDice score: 0.9574613595951307 \tOptimal threshold: 0.998787\n",
      "(Train) Patient 58 \tDice score: 0.9414928863769246 \tOptimal threshold: 0.999999\n",
      "(Train) Patient 60 \tDice score: 0.9530332681017613 \tOptimal threshold: 0.999999\n",
      "(Train) Patient 61 \tDice score: 0.9471421157980576 \tOptimal threshold: 0.993131\n",
      "(Train) Patient 62 \tDice score: 0.9547627804339831 \tOptimal threshold: 0.998181\n",
      "(Train) Patient 63 \tDice score: 0.9087692137564968 \tOptimal threshold: 0.9997969999999999\n",
      "(Train) Patient 64 \tDice score: 0.9541014907835793 \tOptimal threshold: 0.99\n",
      "(Train) Patient 67 \tDice score: 0.9496544916090819 \tOptimal threshold: 0.9972719999999999\n",
      "(Train) Patient 69 \tDice score: 0.9523553162853298 \tOptimal threshold: 0.990101\n",
      "(Train) Patient 72 \tDice score: 0.9640447519002476 \tOptimal threshold: 0.998282\n",
      "(Train) Patient 74 \tDice score: 0.9407921056140819 \tOptimal threshold: 0.999292\n",
      "(Train) Patient 75 \tDice score: 0.9626131444313263 \tOptimal threshold: 0.996969\n",
      "(Train) Patient 76 \tDice score: 0.9443076718344534 \tOptimal threshold: 0.9991909999999999\n",
      "(Train) Patient 77 \tDice score: 0.964509394572025 \tOptimal threshold: 0.995151\n",
      "(Train) Patient 79 \tDice score: 0.9119565217391304 \tOptimal threshold: 0.999898\n",
      "(Train) Patient 80 \tDice score: 0.9573408693311802 \tOptimal threshold: 0.9996959999999999\n",
      "(Train) Patient 81 \tDice score: 0.9697355845810768 \tOptimal threshold: 0.9997969999999999\n",
      "(Train) Patient 83 \tDice score: 0.9333893675141837 \tOptimal threshold: 0.991212\n",
      "(Train) Patient 85 \tDice score: 0.9490924647069608 \tOptimal threshold: 0.994646\n",
      "(Train) Patient 86 \tDice score: 0.9259492872461208 \tOptimal threshold: 0.9991909999999999\n",
      "(Train) Patient 87 \tDice score: 0.9417710629603742 \tOptimal threshold: 0.999595\n",
      "(Train) Patient 90 \tDice score: 0.9444985394352483 \tOptimal threshold: 0.996767\n",
      "(Train) Patient 91 \tDice score: 0.9462568951930654 \tOptimal threshold: 0.994949\n",
      "(Train) Patient 92 \tDice score: 0.9565296471444161 \tOptimal threshold: 0.9996959999999999\n",
      "(Train) Patient 93 \tDice score: 0.953375086986778 \tOptimal threshold: 0.99\n",
      "(Train) Patient 94 \tDice score: 0.901389244012614 \tOptimal threshold: 0.999494\n",
      "(Train) Patient 96 \tDice score: 0.9622362326299537 \tOptimal threshold: 0.999999\n",
      "(Train) Patient 100 \tDice score: 0.9492077595142899 \tOptimal threshold: 0.99\n",
      "\n",
      "Mean dice score with threshold = 0.950716936628559 (Training Set)\n"
     ]
    }
   ],
   "source": [
    "index_start = 0\n",
    "dice_scores = []\n",
    "\n",
    "for patient_id in train_ids:\n",
    "    index_end = index_start + 2*z_dim[patient_id-1]\n",
    "    opt_seg, opt_threshold, opt_dice = optimal_treshold(train_set_gt[index_start:index_end], prediction_train[index_start:index_end])\n",
    "#     print(index_start, index_end)\n",
    "    index_start = index_end\n",
    "    print(\"(Train) Patient {} \\tDice score: {} \\tOptimal threshold: {}\".format(patient_id, opt_dice, opt_threshold))\n",
    "    dice_scores.append(opt_dice)\n",
    "\n",
    "mean_dice_score_training = np.mean(dice_scores)\n",
    "print(\"\\nMean dice score with threshold = {} (Training Set)\".format(mean_dice_score_training))"
   ]
  },
  {
   "cell_type": "markdown",
   "metadata": {},
   "source": [
    "# Unthresholded performance"
   ]
  },
  {
   "cell_type": "markdown",
   "metadata": {},
   "source": [
    "## Validation set"
   ]
  },
  {
   "cell_type": "code",
   "execution_count": 11,
   "metadata": {},
   "outputs": [
    {
     "name": "stdout",
     "output_type": "stream",
     "text": [
      "Patient 20 \tDice score: 0.7678471051152332 \t (without threshold)\n",
      "Patient 21 \tDice score: 0.9265946074355624 \t (without threshold)\n",
      "Patient 26 \tDice score: 0.8760803332711559 \t (without threshold)\n",
      "Patient 30 \tDice score: 0.8929274572164168 \t (without threshold)\n",
      "Patient 38 \tDice score: 0.9186062338369403 \t (without threshold)\n",
      "Patient 40 \tDice score: 0.9276372001314492 \t (without threshold)\n",
      "Patient 47 \tDice score: 0.754817024096956 \t (without threshold)\n",
      "Patient 50 \tDice score: 0.9356576862123613 \t (without threshold)\n",
      "Patient 70 \tDice score: 0.9257734384190095 \t (without threshold)\n",
      "Patient 73 \tDice score: 0.8443432042520881 \t (without threshold)\n",
      "Patient 78 \tDice score: 0.9480673464548257 \t (without threshold)\n",
      "Patient 82 \tDice score: 0.9136681335749418 \t (without threshold)\n",
      "Patient 95 \tDice score: 0.928348119983101 \t (without threshold)\n",
      "Patient 98 \tDice score: 0.9210990150336962 \t (without threshold)\n",
      "Patient 99 \tDice score: 0.8960847081999508 \t (without threshold)\n",
      "\n",
      "Mean dice score without threshold = 0.8918367742155792 (Validation Set)\n"
     ]
    }
   ],
   "source": [
    "# Validation set\n",
    "unthresholded_prediction = copy.deepcopy(prediction)\n",
    "unthresholded_prediction[unthresholded_prediction<1] = 0\n",
    "\n",
    "dice_scores = []\n",
    "index_start = 0\n",
    "for patient_id in valid_ids:\n",
    "    index_end = index_start + 2*z_dim[patient_id-1]\n",
    "    unthresholded_dice = dice_score(valid_set_gt[index_start:index_end], unthresholded_prediction[index_start:index_end])\n",
    "    index_start = index_end\n",
    "    print(\"Patient {} \\tDice score: {} \\t (without threshold)\".format(patient_id, unthresholded_dice))\n",
    "    dice_scores.append(unthresholded_dice)\n",
    "\n",
    "mean_dice_score_validation_unthresholded = np.mean(dice_scores)\n",
    "print(\"\\nMean dice score without threshold = {} (Validation Set)\".format(mean_dice_score_validation_unthresholded))"
   ]
  },
  {
   "cell_type": "markdown",
   "metadata": {},
   "source": [
    "## Training set"
   ]
  },
  {
   "cell_type": "code",
   "execution_count": 12,
   "metadata": {},
   "outputs": [
    {
     "name": "stdout",
     "output_type": "stream",
     "text": [
      "(Train) Patient 1 \tDice score: 0.9722973915469382 (without threshold)\n",
      "(Train) Patient 2 \tDice score: 0.9663892242200902 (without threshold)\n",
      "(Train) Patient 3 \tDice score: 0.9691573394367377 (without threshold)\n",
      "(Train) Patient 4 \tDice score: 0.9586877278250304 (without threshold)\n",
      "(Train) Patient 5 \tDice score: 0.9648980957426047 (without threshold)\n",
      "(Train) Patient 6 \tDice score: 0.9441375903722664 (without threshold)\n",
      "(Train) Patient 7 \tDice score: 0.9689681353939602 (without threshold)\n",
      "(Train) Patient 8 \tDice score: 0.9583853968598902 (without threshold)\n",
      "(Train) Patient 9 \tDice score: 0.9749336830496855 (without threshold)\n",
      "(Train) Patient 11 \tDice score: 0.9717389183388078 (without threshold)\n",
      "(Train) Patient 12 \tDice score: 0.977251900167107 (without threshold)\n",
      "(Train) Patient 14 \tDice score: 0.9751685578029929 (without threshold)\n",
      "(Train) Patient 15 \tDice score: 0.959059893858984 (without threshold)\n",
      "(Train) Patient 16 \tDice score: 0.9764074294999692 (without threshold)\n",
      "(Train) Patient 17 \tDice score: 0.9699254751510341 (without threshold)\n",
      "(Train) Patient 18 \tDice score: 0.9702824996942644 (without threshold)\n",
      "(Train) Patient 19 \tDice score: 0.9686931124847467 (without threshold)\n",
      "(Train) Patient 23 \tDice score: 0.9242915550542788 (without threshold)\n",
      "(Train) Patient 24 \tDice score: 0.9041399158733673 (without threshold)\n",
      "(Train) Patient 25 \tDice score: 0.9413346370080665 (without threshold)\n",
      "(Train) Patient 27 \tDice score: 0.9307072801212024 (without threshold)\n",
      "(Train) Patient 28 \tDice score: 0.931833910034602 (without threshold)\n",
      "(Train) Patient 29 \tDice score: 0.9257049082500373 (without threshold)\n",
      "(Train) Patient 31 \tDice score: 0.9483676480020524 (without threshold)\n",
      "(Train) Patient 32 \tDice score: 0.9492031090523672 (without threshold)\n",
      "(Train) Patient 33 \tDice score: 0.9578011317704123 (without threshold)\n",
      "(Train) Patient 34 \tDice score: 0.9156065777226187 (without threshold)\n",
      "(Train) Patient 35 \tDice score: 0.9538476974014247 (without threshold)\n",
      "(Train) Patient 36 \tDice score: 0.961995938497244 (without threshold)\n",
      "(Train) Patient 39 \tDice score: 0.947888520033969 (without threshold)\n",
      "(Train) Patient 41 \tDice score: 0.9294945198756748 (without threshold)\n",
      "(Train) Patient 42 \tDice score: 0.9553015821369016 (without threshold)\n",
      "(Train) Patient 43 \tDice score: 0.9579725000883673 (without threshold)\n",
      "(Train) Patient 44 \tDice score: 0.935404339250493 (without threshold)\n",
      "(Train) Patient 46 \tDice score: 0.9558571616813809 (without threshold)\n",
      "(Train) Patient 49 \tDice score: 0.9509646817511698 (without threshold)\n",
      "(Train) Patient 51 \tDice score: 0.9544256771350814 (without threshold)\n",
      "(Train) Patient 52 \tDice score: 0.9487286805482892 (without threshold)\n",
      "(Train) Patient 53 \tDice score: 0.9662885273972602 (without threshold)\n",
      "(Train) Patient 54 \tDice score: 0.9640088825575062 (without threshold)\n",
      "(Train) Patient 55 \tDice score: 0.9242759347024749 (without threshold)\n",
      "(Train) Patient 56 \tDice score: 0.9672509451563804 (without threshold)\n",
      "(Train) Patient 57 \tDice score: 0.957442079165598 (without threshold)\n",
      "(Train) Patient 58 \tDice score: 0.9414928863769246 (without threshold)\n",
      "(Train) Patient 60 \tDice score: 0.9530332681017613 (without threshold)\n",
      "(Train) Patient 61 \tDice score: 0.946946649847889 (without threshold)\n",
      "(Train) Patient 62 \tDice score: 0.9545649641302348 (without threshold)\n",
      "(Train) Patient 63 \tDice score: 0.9087692137564968 (without threshold)\n",
      "(Train) Patient 64 \tDice score: 0.9536832818703131 (without threshold)\n",
      "(Train) Patient 67 \tDice score: 0.9495733126454616 (without threshold)\n",
      "(Train) Patient 69 \tDice score: 0.9519956850053938 (without threshold)\n",
      "(Train) Patient 72 \tDice score: 0.963956269217629 (without threshold)\n",
      "(Train) Patient 74 \tDice score: 0.9406508402240598 (without threshold)\n",
      "(Train) Patient 75 \tDice score: 0.9625514043223379 (without threshold)\n",
      "(Train) Patient 76 \tDice score: 0.9442300013310262 (without threshold)\n",
      "(Train) Patient 77 \tDice score: 0.9644148124347337 (without threshold)\n",
      "(Train) Patient 79 \tDice score: 0.9119565217391304 (without threshold)\n",
      "(Train) Patient 80 \tDice score: 0.9573408693311802 (without threshold)\n",
      "(Train) Patient 81 \tDice score: 0.9697355845810768 (without threshold)\n",
      "(Train) Patient 83 \tDice score: 0.932406822488945 (without threshold)\n",
      "(Train) Patient 85 \tDice score: 0.9488104703076264 (without threshold)\n",
      "(Train) Patient 86 \tDice score: 0.9259492872461208 (without threshold)\n",
      "(Train) Patient 87 \tDice score: 0.9417710629603742 (without threshold)\n",
      "(Train) Patient 90 \tDice score: 0.944112991598685 (without threshold)\n",
      "(Train) Patient 91 \tDice score: 0.9462229932187353 (without threshold)\n",
      "(Train) Patient 92 \tDice score: 0.9564821972625165 (without threshold)\n",
      "(Train) Patient 93 \tDice score: 0.9529557412565769 (without threshold)\n",
      "(Train) Patient 94 \tDice score: 0.901389244012614 (without threshold)\n",
      "(Train) Patient 96 \tDice score: 0.9622362326299537 (without threshold)\n",
      "(Train) Patient 100 \tDice score: 0.949021932424422 (without threshold)\n",
      "\n",
      "Mean dice score without threshold = 0.9506110750290792 (Training Set)\n"
     ]
    }
   ],
   "source": [
    "# Training set\n",
    "unthresholded_prediction_train = copy.deepcopy(prediction_train)\n",
    "unthresholded_prediction_train[unthresholded_prediction_train<1] = 0\n",
    "\n",
    "dice_scores = []\n",
    "index_start = 0\n",
    "for patient_id in train_ids:\n",
    "    index_end = index_start + 2*z_dim[patient_id-1]\n",
    "    unthresholded_dice_train = dice_score(train_set_gt[index_start:index_end], unthresholded_prediction_train[index_start:index_end])\n",
    "    index_start = index_end\n",
    "    print(\"(Train) Patient {} \\tDice score: {} (without threshold)\".format(patient_id, unthresholded_dice_train))\n",
    "    dice_scores.append(unthresholded_dice_train)\n",
    "    \n",
    "mean_dice_score_training_unthresholded = np.mean(dice_scores)\n",
    "print(\"\\nMean dice score without threshold = {} (Training Set)\".format(mean_dice_score_training_unthresholded))"
   ]
  },
  {
   "cell_type": "markdown",
   "metadata": {},
   "source": [
    "# ROC Analysis"
   ]
  },
  {
   "cell_type": "code",
   "execution_count": 13,
   "metadata": {},
   "outputs": [],
   "source": [
    "from sklearn.metrics import roc_curve\n",
    "from sklearn.metrics import roc_auc_score"
   ]
  },
  {
   "cell_type": "code",
   "execution_count": 19,
   "metadata": {},
   "outputs": [],
   "source": [
    "# ROC analysis\n",
    "fpr, tpr, thresolds = roc_curve(valid_set_gt.flatten(), prediction.flatten())\n",
    "\n",
    "# Calculate AUC\n",
    "auc = roc_auc_score(valid_set_gt.flatten(), prediction.flatten())"
   ]
  },
  {
   "cell_type": "code",
   "execution_count": 22,
   "metadata": {},
   "outputs": [
    {
     "data": {
      "image/png": "[encoded data removed]",
      "text/plain": [
       "<Figure size 432x288 with 1 Axes>"
      ]
     },
     "metadata": {
      "needs_background": "light"
     },
     "output_type": "display_data"
    }
   ],
   "source": [
    "plt.plot(fpr, tpr, linewidth=2, label=f\"auc={auc:.4f}\")\n",
    "plt.title(\"ROC analysis - validation set\", fontsize=14, fontweight=\"bold\")\n",
    "plt.xlabel(\"False Positive Ratio\", fontsize=14)\n",
    "plt.ylabel(\"True Positive Ratio\", fontsize=14)\n",
    "plt.legend()\n",
    "plt.show()"
   ]
  },
  {
   "cell_type": "code",
   "execution_count": null,
   "metadata": {},
   "outputs": [],
   "source": []
  }
 ],
 "metadata": {
  "kernelspec": {
   "display_name": "Python 3",
   "language": "python",
   "name": "python3"
  },
  "language_info": {
   "codemirror_mode": {
    "name": "ipython",
    "version": 3
   },
   "file_extension": ".py",
   "mimetype": "text/x-python",
   "name": "python",
   "nbconvert_exporter": "python",
   "pygments_lexer": "ipython3",
   "version": "3.6.8"
  }
 },
 "nbformat": 4,
 "nbformat_minor": 2
}

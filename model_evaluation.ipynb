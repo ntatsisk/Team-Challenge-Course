{
 "cells": [
  {
   "cell_type": "code",
   "execution_count": 1,
   "metadata": {},
   "outputs": [
    {
     "name": "stderr",
     "output_type": "stream",
     "text": [
      "Using TensorFlow backend.\n"
     ]
    }
   ],
   "source": [
    "from keras.models import model_from_json\n",
    "import keras\n",
    "from keras.optimizers import Adam\n",
    "import numpy as np\n",
    "import copy\n",
    "np.random.seed(0)\n",
    "import pandas as pd\n",
    "import ast\n",
    "import os\n",
    "\n",
    "from calculate_metrics import *"
   ]
  },
  {
   "cell_type": "code",
   "execution_count": 2,
   "metadata": {},
   "outputs": [
    {
     "name": "stdout",
     "output_type": "stream",
     "text": [
      "Model has been loaded\n"
     ]
    }
   ],
   "source": [
    "# Load model\n",
    "with open(\"model.json\") as json_file:\n",
    "    loaded_model_json = json_file.read()\n",
    "loaded_model = model_from_json(loaded_model_json)\n",
    "\n",
    "# Load weights\n",
    "loaded_model.load_weights(\"model_weights.h5\")\n",
    "print(\"Model has been loaded\")"
   ]
  },
  {
   "cell_type": "code",
   "execution_count": 3,
   "metadata": {},
   "outputs": [],
   "source": [
    "loaded_model.compile(optimizer = Adam(lr = 1e-4), loss = 'binary_crossentropy', metrics = ['accuracy'])"
   ]
  },
  {
   "cell_type": "markdown",
   "metadata": {},
   "source": [
    "## Load the data"
   ]
  },
  {
   "cell_type": "code",
   "execution_count": 4,
   "metadata": {},
   "outputs": [
    {
     "name": "stdout",
     "output_type": "stream",
     "text": [
      "Loading the data ...\n",
      "\n",
      "\n",
      "Image data has size: (1902, 144, 144)\n",
      "Ground truth has size: (1902, 144, 144)\n",
      "The array of patient IDs has shape:  (1902,)\n",
      "The train set consists of 1320 slices\n",
      "The validation set consists of 264 slices\n",
      "The test set consists of 318 slices\n",
      "\n",
      "\n"
     ]
    }
   ],
   "source": [
    "rescale_bool = True\n",
    "# Load the data\n",
    "print(\"Loading the data ...\\n\\n\")\n",
    "if rescale_bool:\n",
    "    images = np.load(\"cropped_rescaled_images.npy\")\n",
    "    images_gt = np.load(\"cropped_rescaled_images_gt.npy\")\n",
    "else:\n",
    "    images = np.load(\"cropped_images.npy\")\n",
    "    images_gt = np.load(\"cropped_images_gt.npy\")\n",
    "\n",
    "print(\"Image data has size: {}\".format(images.shape))\n",
    "print(\"Ground truth has size: {}\".format(images_gt.shape))\n",
    "\n",
    "# For now keep only the labels of the Left Venctricle (removes RV, myocardium)\n",
    "images_gt[images_gt != 3] = 0\n",
    "images_gt[images_gt == 3] = 1\n",
    "\n",
    "# Zero-mean, unit-variance normalization\n",
    "mean_per_slice = np.mean(images, axis=(1,2), keepdims=True)\n",
    "std_per_slice =  np.std(images, axis=(1,2), keepdims=True)\n",
    "images = (images - mean_per_slice) / std_per_slice\n",
    "\n",
    "# Turn image data to 4D\n",
    "images = np.reshape(images, newshape=(*images.shape, 1))\n",
    "images_gt = np.reshape(images_gt, newshape=(*images_gt.shape, 1))\n",
    "\n",
    "# Load patient information\n",
    "patient_info = pd.read_csv(\"patient_info.csv\", converters={\"spacing\": ast.literal_eval,\"image_pixels\": ast.literal_eval }) # the converter is used to convert back the tuple\n",
    "id_list = patient_info[\"patient_id\"].to_numpy()\n",
    "image_sizes = patient_info[\"image_pixels\"].to_numpy()\n",
    "image_sizes = np.array([*image_sizes])\n",
    "z_dim = image_sizes[:,2]\n",
    "EF_gt = patient_info[\"ejection_fraction\"].to_numpy()\n",
    "spacing = patient_info[\"image_pixels\"].to_numpy()\n",
    "spacing = np.array([*spacing])\n",
    "\n",
    "# Create an array of (1902,) where each row corresponds to the ID of every slice\n",
    "# of the dataset\n",
    "patient_id_array = np.array([])\n",
    "for patient_id in id_list:\n",
    "    patient_id_array = np.append(patient_id_array, np.full(shape=2*z_dim[patient_id-1], fill_value=patient_id))\n",
    "\n",
    "print(\"The array of patient IDs has shape: \", patient_id_array.shape)\n",
    "\n",
    "# Split dataset to train/valid/test based on patient ids (doesnt mix patient slices)\n",
    "# and sample uniformly each of the 5 groups of patients\n",
    "np.random.seed(0) # seed for reproducability\n",
    "train_ids = np.array([], dtype=np.int32)\n",
    "valid_ids = np.array([], dtype=np.int32)\n",
    "test_ids = np.array([], dtype=np.int32)\n",
    "\n",
    "# There are 5 patient groups with 20 patients each\n",
    "samples_per_group = 20\n",
    "num_of_groups = 5\n",
    "for group in range(num_of_groups):\n",
    "    # Shuffle the patients of each group and split to train/valid/test\n",
    "    group_id_list = copy.deepcopy(id_list[group*samples_per_group:(group+1)*samples_per_group])\n",
    "    np.random.shuffle(group_id_list)\n",
    "    train_ids = np.append(train_ids, group_id_list[:14]) # 70% training\n",
    "    valid_ids = np.append(valid_ids, group_id_list[14:17]) # 15% validation\n",
    "    test_ids = np.append(test_ids, group_id_list[17:]) # 15% test\n",
    "    \n",
    "# Sort the split IDs (this is the order they are masked)\n",
    "train_ids = copy.deepcopy(np.sort(train_ids))\n",
    "valid_ids = copy.deepcopy(np.sort(valid_ids))\n",
    "test_ids = copy.deepcopy(np.sort(test_ids))\n",
    "\n",
    "# Create the id masks\n",
    "train_msk = np.isin(patient_id_array, train_ids)\n",
    "valid_msk = np.isin(patient_id_array, valid_ids)\n",
    "test_msk = np.isin(patient_id_array, test_ids)\n",
    "\n",
    "print(\"The train set consists of {} slices\".format(np.count_nonzero(train_msk)))\n",
    "print(\"The validation set consists of {} slices\".format(np.count_nonzero(valid_msk)))\n",
    "print(\"The test set consists of {} slices\\n\\n\".format(np.count_nonzero(test_msk)))\n",
    "\n",
    "# Now split the images based on the masks\n",
    "train_set = images[train_msk]\n",
    "train_set_gt = images_gt[train_msk]\n",
    "\n",
    "valid_set = images[valid_msk]\n",
    "valid_set_gt = images_gt[valid_msk]\n",
    "\n",
    "test_set = images[test_msk]\n",
    "test_set_gt = images_gt[test_msk]"
   ]
  },
  {
   "cell_type": "markdown",
   "metadata": {},
   "source": [
    "# Prediction on Validation Set"
   ]
  },
  {
   "cell_type": "markdown",
   "metadata": {},
   "source": [
    "## Predict"
   ]
  },
  {
   "cell_type": "code",
   "execution_count": 5,
   "metadata": {},
   "outputs": [],
   "source": [
    "# Predict on the validation set and save the prediction\n",
    "if not(os.path.exists(\"prediction_scaled_crop_augmented.npy\")):\n",
    "    prediction = loaded_model.predict(valid_set, batch_size=10, verbose=1)\n",
    "    np.save(\"prediction_scaled_crop_augmented\", prediction)"
   ]
  },
  {
   "cell_type": "code",
   "execution_count": 6,
   "metadata": {},
   "outputs": [
    {
     "name": "stdout",
     "output_type": "stream",
     "text": [
      "The validation prediction has shape:  (264, 144, 144)\n"
     ]
    }
   ],
   "source": [
    "# Load and preprocess the prediction\n",
    "prediction = np.load(\"prediction_scaled_crop_augmented.npy\")\n",
    "prediction /= np.amax(prediction)\n",
    "prediction = prediction[:,:,:,0]\n",
    "print(\"The validation prediction has shape: \", prediction.shape)\n",
    "\n",
    "valid_set = valid_set[:,:,:,0]\n",
    "valid_set_gt = valid_set_gt[:,:,:,0]\n",
    "valid_id_array = patient_id_array[valid_msk]"
   ]
  },
  {
   "cell_type": "markdown",
   "metadata": {},
   "source": [
    "## Dice score and Haussdorf distance"
   ]
  },
  {
   "cell_type": "code",
   "execution_count": 7,
   "metadata": {
    "scrolled": false
   },
   "outputs": [
    {
     "name": "stdout",
     "output_type": "stream",
     "text": [
      "Patient 4 \tDice score:  0.96471998 \tMean Haussdorf:  2.32537731\n",
      "Patient 12 \tDice score:  0.93983792 \tMean Haussdorf:  2.74052570\n",
      "Patient 17 \tDice score:  0.95036971 \tMean Haussdorf:  3.15972927\n",
      "Patient 26 \tDice score:  0.91032763 \tMean Haussdorf:  2.83188605\n",
      "Patient 30 \tDice score:  0.85494364 \tMean Haussdorf:  2.56674008\n",
      "Patient 34 \tDice score:  0.83113602 \tMean Haussdorf:  3.27735820\n",
      "Patient 41 \tDice score:  0.92988609 \tMean Haussdorf:  2.68435291\n",
      "Patient 42 \tDice score:  0.96372595 \tMean Haussdorf:  2.48580969\n",
      "Patient 50 \tDice score:  0.95174867 \tMean Haussdorf:  2.51754755\n",
      "Patient 62 \tDice score:  0.95640998 \tMean Haussdorf:  2.10450426\n",
      "Patient 69 \tDice score:  0.94620162 \tMean Haussdorf:  2.05096659\n",
      "Patient 80 \tDice score:  0.96622836 \tMean Haussdorf:  1.76158023\n",
      "Patient 90 \tDice score:  0.93134637 \tMean Haussdorf:  2.01301952\n",
      "Patient 91 \tDice score:  0.87301632 \tMean Haussdorf:  2.66281747\n",
      "Patient 93 \tDice score:  0.94764785 \tMean Haussdorf:  1.83152535\n",
      "\n",
      "Max dice score = 0.9662283606092139 (Validation Set)\n",
      "Min dice score = 0.8311360227362438 (Validation Set)\n",
      "Mean dice score = 0.927836406988354 (Validation Set)\n",
      "STD dice score = 0.04073069711036218 (Validation Set)\n",
      "\n",
      "Max (mean) haussdorf = 3.2773582017581377 (Validation Set)\n",
      "Min (mean) haussdorf = 1.7615802252052886 (Validation Set)\n",
      "Mean (mean) haussdorf = 2.467582676572803 (Validation Set)\n",
      "STD (mean) haussdorf = 0.437800436559449 (Validation Set)\n"
     ]
    }
   ],
   "source": [
    "# Keep only predictions that equal to 1\n",
    "validation_prediction = copy.deepcopy(prediction)\n",
    "validation_prediction[validation_prediction<1] = 0\n",
    "\n",
    "# Calculate dice score and haussdorf distance for each patient\n",
    "dice_scores = []\n",
    "haus_distances = []\n",
    "index_start = 0\n",
    "for patient_id in valid_ids:\n",
    "    index_end = index_start + 2*z_dim[patient_id-1]\n",
    "    validation_dice = dice_score(valid_set_gt[index_start:index_end], validation_prediction[index_start:index_end])\n",
    "    max_haus = np.mean(calculate_haus(valid_set_gt[index_start:index_end], validation_prediction[index_start:index_end]))\n",
    "    index_start = index_end\n",
    "    print(f\"Patient {patient_id} \\tDice score: {validation_dice: .8f} \\tMean Haussdorf: {max_haus: 1.8f}\")\n",
    "    dice_scores.append(validation_dice)\n",
    "    haus_distances.append(max_haus)\n",
    "    \n",
    "# Calculate max, min, mean, std\n",
    "print(\"\\nMax dice score = {} (Validation Set)\".format(np.max(dice_scores)))\n",
    "print(\"Min dice score = {} (Validation Set)\".format(np.amin(dice_scores)))\n",
    "print(\"Mean dice score = {} (Validation Set)\".format(np.mean(dice_scores)))\n",
    "print(\"STD dice score = {} (Validation Set)\".format(np.std(dice_scores)))\n",
    "\n",
    "print(\"\\nMax (mean) haussdorf = {} (Validation Set)\".format(np.amax(haus_distances)))\n",
    "print(\"Min (mean) haussdorf = {} (Validation Set)\".format(np.amin(haus_distances)))\n",
    "print(\"Mean (mean) haussdorf = {} (Validation Set)\".format(np.mean(haus_distances)))\n",
    "print(\"STD (mean) haussdorf = {} (Validation Set)\".format(np.std(haus_distances)))"
   ]
  },
  {
   "cell_type": "markdown",
   "metadata": {},
   "source": [
    "## Ejection Fraction"
   ]
  },
  {
   "cell_type": "code",
   "execution_count": 8,
   "metadata": {},
   "outputs": [
    {
     "name": "stdout",
     "output_type": "stream",
     "text": [
      "Patient 4 \tEF_gt=13.1781 \tEF_pred=14.1280 \tdifference=-7.2087%\n",
      "Patient 12 \tEF_gt=24.4246 \tEF_pred=19.1120 \tdifference=21.7508%\n",
      "Patient 17 \tEF_gt=13.6644 \tEF_pred=12.8063 \tdifference=6.2802%\n",
      "Patient 26 \tEF_gt=50.0246 \tEF_pred=46.8973 \tdifference=6.2516%\n",
      "Patient 30 \tEF_gt=74.5888 \tEF_pred=70.0245 \tdifference=6.1193%\n",
      "Patient 34 \tEF_gt=77.2301 \tEF_pred=55.0805 \tdifference=28.6800%\n",
      "Patient 41 \tEF_gt=36.0726 \tEF_pred=25.3829 \tdifference=29.6338%\n",
      "Patient 42 \tEF_gt=33.0754 \tEF_pred=32.7564 \tdifference=0.9645%\n",
      "Patient 50 \tEF_gt=16.4440 \tEF_pred=21.0675 \tdifference=-28.1167%\n",
      "Patient 62 \tEF_gt=56.7987 \tEF_pred=52.4708 \tdifference=7.6198%\n",
      "Patient 69 \tEF_gt=55.4649 \tEF_pred=53.4715 \tdifference=3.5940%\n",
      "Patient 80 \tEF_gt=62.1783 \tEF_pred=63.1054 \tdifference=-1.4911%\n",
      "Patient 90 \tEF_gt=44.8602 \tEF_pred=42.2795 \tdifference=5.7527%\n",
      "Patient 91 \tEF_gt=54.6053 \tEF_pred=49.2873 \tdifference=9.7388%\n",
      "Patient 93 \tEF_gt=58.5547 \tEF_pred=60.1358 \tdifference=-2.7004%\n",
      "\n",
      "Max (abs) EF difference = 29.633830568129337% (Validation Set)\n",
      "Min (abs) EF difference = 0.9644618413724824% (Validation Set)\n",
      "Mean EF difference = -28.116714325243336% (Validation Set)\n",
      "Std EF difference = 13.756383651467514 (Validation Set)\n"
     ]
    }
   ],
   "source": [
    "EF_predictions = []\n",
    "index = 0\n",
    "new_scale_factor = 1.0 # the cropping was performed with this number\n",
    "\n",
    "ef_differences = []\n",
    "for patient_id in valid_ids:\n",
    "    ED_prediction = validation_prediction[index:index+z_dim[patient_id-1]]\n",
    "    ES_prediction = validation_prediction[index+z_dim[patient_id-1]:index+2*z_dim[patient_id-1]]\n",
    "    index = index + 2*z_dim[patient_id-1]\n",
    "    EF_prediction, strokevolume = calculate_EF(ED_prediction, ES_prediction, spacing=[1/new_scale_factor,1/new_scale_factor,spacing[patient_id-1][2]])\n",
    "    diff = (EF_gt[patient_id-1]-EF_prediction)/EF_gt[patient_id-1]*100\n",
    "    EF_predictions.append(EF_prediction)\n",
    "    ef_differences.append(diff)\n",
    "    print(f\"Patient {patient_id} \\tEF_gt={EF_gt[patient_id-1]:2.4f} \\tEF_pred={EF_prediction:2.4f} \\tdifference={diff:2.4f}%\")\n",
    "    \n",
    "# Calculate max, min, mean, std\n",
    "print(\"\\nMax (abs) EF difference = {}% (Validation Set)\".format(np.amax(np.abs(ef_differences))))\n",
    "print(\"Min (abs) EF difference = {}% (Validation Set)\".format(np.min(np.abs(ef_differences))))\n",
    "print(\"Mean EF difference = {}% (Validation Set)\".format(np.min(ef_differences)))\n",
    "print(\"Std EF difference = {} (Validation Set)\".format(np.std(ef_differences)))"
   ]
  },
  {
   "cell_type": "markdown",
   "metadata": {},
   "source": [
    "# Prediction on Training Set"
   ]
  },
  {
   "cell_type": "markdown",
   "metadata": {},
   "source": [
    "## Predict"
   ]
  },
  {
   "cell_type": "code",
   "execution_count": 9,
   "metadata": {},
   "outputs": [],
   "source": [
    "# Predict on the training set and save the prediction\n",
    "if not(os.path.exists(\"prediction_scaled_crop_train.npy\")):\n",
    "    prediction = loaded_model.predict(train_set, batch_size=10, verbose=1)\n",
    "    np.save(\"prediction_scaled_crop_train\", prediction)"
   ]
  },
  {
   "cell_type": "code",
   "execution_count": 10,
   "metadata": {},
   "outputs": [],
   "source": [
    "# Load and preprocess the prediction of the training set\n",
    "prediction = np.load(\"prediction_scaled_crop_train.npy\")\n",
    "\n",
    "prediction /= np.amax(prediction)\n",
    "prediction = prediction[:,:,:,0]\n",
    "\n",
    "train_set = train_set[:,:,:,0]\n",
    "train_set_gt  = train_set_gt[:,:,:,0]"
   ]
  },
  {
   "cell_type": "markdown",
   "metadata": {},
   "source": [
    "## Dice score and Haussdorf distance"
   ]
  },
  {
   "cell_type": "code",
   "execution_count": 11,
   "metadata": {},
   "outputs": [
    {
     "name": "stdout",
     "output_type": "stream",
     "text": [
      "(Train) Patient 2 \tDice score: 0.94102766 \tMean Haussdorf:  2.33234618\n",
      "(Train) Patient 3 \tDice score: 0.96600216 \tMean Haussdorf:  2.51994227\n",
      "(Train) Patient 5 \tDice score: 0.95960769 \tMean Haussdorf:  2.50173888\n",
      "(Train) Patient 6 \tDice score: 0.92905091 \tMean Haussdorf:  3.17081015\n",
      "(Train) Patient 7 \tDice score: 0.96516370 \tMean Haussdorf:  2.71940744\n",
      "(Train) Patient 8 \tDice score: 0.96296369 \tMean Haussdorf:  2.55969355\n",
      "(Train) Patient 9 \tDice score: 0.96139487 \tMean Haussdorf:  2.37474522\n",
      "(Train) Patient 10 \tDice score: 0.97045797 \tMean Haussdorf:  2.45476633\n",
      "(Train) Patient 11 \tDice score: 0.95821980 \tMean Haussdorf:  2.41219227\n",
      "(Train) Patient 14 \tDice score: 0.95451145 \tMean Haussdorf:  2.59107146\n",
      "(Train) Patient 15 \tDice score: 0.95296511 \tMean Haussdorf:  2.43863553\n",
      "(Train) Patient 18 \tDice score: 0.96303593 \tMean Haussdorf:  2.38041767\n",
      "(Train) Patient 19 \tDice score: 0.97788066 \tMean Haussdorf:  2.28587414\n",
      "(Train) Patient 20 \tDice score: 0.96403219 \tMean Haussdorf:  2.71925534\n",
      "(Train) Patient 21 \tDice score: 0.93611160 \tMean Haussdorf:  2.34789064\n",
      "(Train) Patient 22 \tDice score: 0.94639284 \tMean Haussdorf:  2.14509782\n",
      "(Train) Patient 23 \tDice score: 0.92132360 \tMean Haussdorf:  1.87764202\n",
      "(Train) Patient 24 \tDice score: 0.94027304 \tMean Haussdorf:  2.11297665\n",
      "(Train) Patient 25 \tDice score: 0.94079723 \tMean Haussdorf:  2.58596098\n",
      "(Train) Patient 29 \tDice score: 0.90168877 \tMean Haussdorf:  2.40733777\n",
      "(Train) Patient 31 \tDice score: 0.95068860 \tMean Haussdorf:  2.11108630\n",
      "(Train) Patient 32 \tDice score: 0.93265340 \tMean Haussdorf:  2.16870930\n",
      "(Train) Patient 33 \tDice score: 0.81932543 \tMean Haussdorf:  3.08785962\n",
      "(Train) Patient 36 \tDice score: 0.93491465 \tMean Haussdorf:  2.38787368\n",
      "(Train) Patient 37 \tDice score: 0.88549618 \tMean Haussdorf:  2.11600358\n",
      "(Train) Patient 38 \tDice score: 0.95578425 \tMean Haussdorf:  2.28392507\n",
      "(Train) Patient 39 \tDice score: 0.92109858 \tMean Haussdorf:  2.30441124\n",
      "(Train) Patient 40 \tDice score: 0.94737816 \tMean Haussdorf:  2.30682867\n",
      "(Train) Patient 43 \tDice score: 0.95027006 \tMean Haussdorf:  2.58815448\n",
      "(Train) Patient 44 \tDice score: 0.94443105 \tMean Haussdorf:  2.11541622\n",
      "(Train) Patient 45 \tDice score: 0.95672177 \tMean Haussdorf:  2.71481495\n",
      "(Train) Patient 46 \tDice score: 0.94504503 \tMean Haussdorf:  2.31323533\n",
      "(Train) Patient 47 \tDice score: 0.95480549 \tMean Haussdorf:  2.30624371\n",
      "(Train) Patient 49 \tDice score: 0.90785324 \tMean Haussdorf:  2.97565972\n",
      "(Train) Patient 51 \tDice score: 0.94158356 \tMean Haussdorf:  2.70233534\n",
      "(Train) Patient 52 \tDice score: 0.93734431 \tMean Haussdorf:  2.51441672\n",
      "(Train) Patient 53 \tDice score: 0.95817158 \tMean Haussdorf:  2.05453782\n",
      "(Train) Patient 54 \tDice score: 0.95608913 \tMean Haussdorf:  2.40906936\n",
      "(Train) Patient 56 \tDice score: 0.95749119 \tMean Haussdorf:  2.08704780\n",
      "(Train) Patient 57 \tDice score: 0.91708746 \tMean Haussdorf:  3.78029668\n",
      "(Train) Patient 58 \tDice score: 0.95421001 \tMean Haussdorf:  2.16440414\n",
      "(Train) Patient 59 \tDice score: 0.96471971 \tMean Haussdorf:  2.35245913\n",
      "(Train) Patient 61 \tDice score: 0.92415118 \tMean Haussdorf:  2.29634644\n",
      "(Train) Patient 63 \tDice score: 0.89822115 \tMean Haussdorf:  2.36414184\n",
      "(Train) Patient 64 \tDice score: 0.95255274 \tMean Haussdorf:  2.06364350\n",
      "(Train) Patient 68 \tDice score: 0.94747013 \tMean Haussdorf:  2.43729111\n",
      "(Train) Patient 70 \tDice score: 0.94479245 \tMean Haussdorf:  2.54873284\n",
      "(Train) Patient 71 \tDice score: 0.95348042 \tMean Haussdorf:  2.24138413\n",
      "(Train) Patient 72 \tDice score: 0.96074589 \tMean Haussdorf:  1.81530258\n",
      "(Train) Patient 73 \tDice score: 0.94018052 \tMean Haussdorf:  2.47394656\n",
      "(Train) Patient 74 \tDice score: 0.95128777 \tMean Haussdorf:  2.38602343\n",
      "(Train) Patient 75 \tDice score: 0.95310665 \tMean Haussdorf:  2.17767103\n",
      "(Train) Patient 76 \tDice score: 0.95002369 \tMean Haussdorf:  2.46476402\n",
      "(Train) Patient 77 \tDice score: 0.93979377 \tMean Haussdorf:  2.17319346\n",
      "(Train) Patient 78 \tDice score: 0.96666557 \tMean Haussdorf:  2.36152598\n",
      "(Train) Patient 79 \tDice score: 0.96326400 \tMean Haussdorf:  2.04013380\n",
      "(Train) Patient 82 \tDice score: 0.95088894 \tMean Haussdorf:  2.32176631\n",
      "(Train) Patient 83 \tDice score: 0.89118312 \tMean Haussdorf:  2.28881139\n",
      "(Train) Patient 85 \tDice score: 0.93612301 \tMean Haussdorf:  1.89761722\n",
      "(Train) Patient 86 \tDice score: 0.93572267 \tMean Haussdorf:  2.11073500\n",
      "(Train) Patient 87 \tDice score: 0.94314826 \tMean Haussdorf:  2.29982949\n",
      "(Train) Patient 88 \tDice score: 0.94448158 \tMean Haussdorf:  2.40876911\n",
      "(Train) Patient 89 \tDice score: 0.93114565 \tMean Haussdorf:  2.02821827\n",
      "(Train) Patient 92 \tDice score: 0.93644116 \tMean Haussdorf:  2.21555421\n",
      "(Train) Patient 94 \tDice score: 0.91906005 \tMean Haussdorf:  2.34786102\n",
      "(Train) Patient 96 \tDice score: 0.95378731 \tMean Haussdorf:  2.36641340\n",
      "(Train) Patient 97 \tDice score: 0.95929173 \tMean Haussdorf:  2.26030501\n",
      "(Train) Patient 98 \tDice score: 0.94243440 \tMean Haussdorf:  2.28667007\n",
      "(Train) Patient 99 \tDice score: 0.95416014 \tMean Haussdorf:  2.20748402\n",
      "(Train) Patient 100 \tDice score: 0.94964539 \tMean Haussdorf:  1.86595415\n",
      "\n",
      "Max dice score = 0.977880662088946 (Training Set)\n",
      "Min dice score = 0.8193254329990884 (Training Set)\n",
      "Mean dice score = 0.9428473288878975 (Training Set)\n",
      "STD dice score = 0.023620109849879608 (Training Set)\n",
      "\n",
      "Max (mean) haussdorf = 3.780296676595869 (Training Set)\n",
      "Min (mean) haussdorf = 1.8153025790351311 (Training Set)\n",
      "Mean (mean) haussdorf = 2.3647525793162836 (Training Set)\n",
      "STD (mean) haussdorf = 0.30476582499970123 (Training Set)\n"
     ]
    }
   ],
   "source": [
    "# Keep only predictions that equal to 1\n",
    "train_prediction = copy.deepcopy(prediction)\n",
    "train_prediction[train_prediction<1] = 0\n",
    "\n",
    "# Calculate dice score and haussdorf distance for each patient\n",
    "dice_scores = []\n",
    "haus_distances = []\n",
    "index_start = 0\n",
    "for patient_id in train_ids:\n",
    "    index_end = index_start + 2*z_dim[patient_id-1]\n",
    "    train_dice = dice_score(train_set_gt[index_start:index_end], train_prediction[index_start:index_end])\n",
    "    max_haus = np.mean(calculate_haus(train_set_gt[index_start:index_end], train_prediction[index_start:index_end]))\n",
    "    index_start = index_end\n",
    "    print(f\"(Train) Patient {patient_id} \\tDice score: {train_dice:.8f} \\tMean Haussdorf: {max_haus: 1.8f}\")\n",
    "    dice_scores.append(train_dice)\n",
    "    haus_distances.append(max_haus)\n",
    "\n",
    "# Calculate max, min, mean, std\n",
    "print(\"\\nMax dice score = {} (Training Set)\".format(np.max(dice_scores)))\n",
    "print(\"Min dice score = {} (Training Set)\".format(np.amin(dice_scores)))\n",
    "print(\"Mean dice score = {} (Training Set)\".format(np.mean(dice_scores)))\n",
    "print(\"STD dice score = {} (Training Set)\".format(np.std(dice_scores)))\n",
    "\n",
    "print(\"\\nMax (mean) haussdorf = {} (Training Set)\".format(np.amax(haus_distances)))\n",
    "print(\"Min (mean) haussdorf = {} (Training Set)\".format(np.amin(haus_distances)))\n",
    "print(\"Mean (mean) haussdorf = {} (Training Set)\".format(np.mean(haus_distances)))\n",
    "print(\"STD (mean) haussdorf = {} (Training Set)\".format(np.std(haus_distances)))"
   ]
  },
  {
   "cell_type": "markdown",
   "metadata": {},
   "source": [
    "## Ejection Fraction"
   ]
  },
  {
   "cell_type": "code",
   "execution_count": 12,
   "metadata": {},
   "outputs": [
    {
     "name": "stdout",
     "output_type": "stream",
     "text": [
      "Patient 2 \tEF_gt=29.1412 \tEF_pred=29.0690 \tdifference=0.2475%\n",
      "Patient 3 \tEF_gt=12.8728 \tEF_pred=10.1593 \tdifference=21.0790%\n",
      "Patient 5 \tEF_gt=22.9378 \tEF_pred=22.4808 \tdifference=1.9922%\n",
      "Patient 6 \tEF_gt=14.3602 \tEF_pred=17.9697 \tdifference=-25.1354%\n",
      "Patient 7 \tEF_gt=10.4767 \tEF_pred=11.6517 \tdifference=-11.2150%\n",
      "Patient 8 \tEF_gt=16.9730 \tEF_pred=15.3801 \tdifference=9.3853%\n",
      "Patient 9 \tEF_gt=14.9753 \tEF_pred=13.0632 \tdifference=12.7685%\n",
      "Patient 10 \tEF_gt=10.7588 \tEF_pred=11.2151 \tdifference=-4.2411%\n",
      "Patient 11 \tEF_gt=12.3083 \tEF_pred=13.5182 \tdifference=-9.8307%\n",
      "Patient 14 \tEF_gt=14.2034 \tEF_pred=12.4778 \tdifference=12.1494%\n",
      "Patient 15 \tEF_gt=25.7340 \tEF_pred=32.2253 \tdifference=-25.2245%\n",
      "Patient 18 \tEF_gt=22.7535 \tEF_pred=23.8672 \tdifference=-4.8948%\n",
      "Patient 19 \tEF_gt=27.4510 \tEF_pred=26.6267 \tdifference=3.0029%\n",
      "Patient 20 \tEF_gt=17.2904 \tEF_pred=16.1499 \tdifference=6.5964%\n",
      "Patient 21 \tEF_gt=67.5592 \tEF_pred=64.3301 \tdifference=4.7798%\n",
      "Patient 22 \tEF_gt=64.9394 \tEF_pred=63.0683 \tdifference=2.8812%\n",
      "Patient 23 \tEF_gt=67.9402 \tEF_pred=61.1594 \tdifference=9.9805%\n",
      "Patient 24 \tEF_gt=72.1038 \tEF_pred=66.8483 \tdifference=7.2888%\n",
      "Patient 25 \tEF_gt=62.9804 \tEF_pred=60.4364 \tdifference=4.0394%\n",
      "Patient 29 \tEF_gt=81.8679 \tEF_pred=76.6333 \tdifference=6.3940%\n",
      "Patient 31 \tEF_gt=72.9124 \tEF_pred=74.1185 \tdifference=-1.6541%\n",
      "Patient 32 \tEF_gt=79.9447 \tEF_pred=77.6703 \tdifference=2.8450%\n",
      "Patient 33 \tEF_gt=71.4683 \tEF_pred=53.5753 \tdifference=25.0363%\n",
      "Patient 36 \tEF_gt=59.4036 \tEF_pred=61.6982 \tdifference=-3.8627%\n",
      "Patient 37 \tEF_gt=65.4891 \tEF_pred=73.9590 \tdifference=-12.9333%\n",
      "Patient 38 \tEF_gt=52.6987 \tEF_pred=55.5310 \tdifference=-5.3744%\n",
      "Patient 39 \tEF_gt=71.7163 \tEF_pred=71.3019 \tdifference=0.5777%\n",
      "Patient 40 \tEF_gt=50.4681 \tEF_pred=47.8111 \tdifference=5.2648%\n",
      "Patient 43 \tEF_gt=33.0869 \tEF_pred=28.6197 \tdifference=13.5015%\n",
      "Patient 44 \tEF_gt=39.1234 \tEF_pred=38.1214 \tdifference=2.5610%\n",
      "Patient 45 \tEF_gt=29.7058 \tEF_pred=29.2884 \tdifference=1.4049%\n",
      "Patient 46 \tEF_gt=42.1866 \tEF_pred=42.1288 \tdifference=0.1370%\n",
      "Patient 47 \tEF_gt=16.7356 \tEF_pred=13.1261 \tdifference=21.5680%\n",
      "Patient 49 \tEF_gt=20.8308 \tEF_pred=25.3794 \tdifference=-21.8359%\n",
      "Patient 51 \tEF_gt=43.5588 \tEF_pred=37.0201 \tdifference=15.0114%\n",
      "Patient 52 \tEF_gt=33.6706 \tEF_pred=33.4971 \tdifference=0.5154%\n",
      "Patient 53 \tEF_gt=24.8060 \tEF_pred=26.0408 \tdifference=-4.9778%\n",
      "Patient 54 \tEF_gt=25.8247 \tEF_pred=26.3284 \tdifference=-1.9508%\n",
      "Patient 56 \tEF_gt=37.1207 \tEF_pred=36.7265 \tdifference=1.0618%\n",
      "Patient 57 \tEF_gt=24.3876 \tEF_pred=22.6978 \tdifference=6.9289%\n",
      "Patient 58 \tEF_gt=25.3526 \tEF_pred=25.2361 \tdifference=0.4598%\n",
      "Patient 59 \tEF_gt=41.6950 \tEF_pred=42.6273 \tdifference=-2.2359%\n",
      "Patient 61 \tEF_gt=62.5493 \tEF_pred=53.7688 \tdifference=14.0377%\n",
      "Patient 63 \tEF_gt=72.9274 \tEF_pred=64.6067 \tdifference=11.4095%\n",
      "Patient 64 \tEF_gt=54.9899 \tEF_pred=53.1978 \tdifference=3.2590%\n",
      "Patient 68 \tEF_gt=60.0830 \tEF_pred=62.6148 \tdifference=-4.2137%\n",
      "Patient 70 \tEF_gt=62.4216 \tEF_pred=59.3169 \tdifference=4.9737%\n",
      "Patient 71 \tEF_gt=54.6830 \tEF_pred=49.6825 \tdifference=9.1444%\n",
      "Patient 72 \tEF_gt=54.9886 \tEF_pred=57.4197 \tdifference=-4.4210%\n",
      "Patient 73 \tEF_gt=62.9815 \tEF_pred=59.0675 \tdifference=6.2145%\n",
      "Patient 74 \tEF_gt=58.5644 \tEF_pred=57.7842 \tdifference=1.3322%\n",
      "Patient 75 \tEF_gt=51.4958 \tEF_pred=52.1010 \tdifference=-1.1752%\n",
      "Patient 76 \tEF_gt=58.7260 \tEF_pred=57.7842 \tdifference=1.6037%\n",
      "Patient 77 \tEF_gt=67.1893 \tEF_pred=60.7609 \tdifference=9.5677%\n",
      "Patient 78 \tEF_gt=62.9879 \tEF_pred=60.0445 \tdifference=4.6729%\n",
      "Patient 79 \tEF_gt=57.6592 \tEF_pred=57.7334 \tdifference=-0.1286%\n",
      "Patient 82 \tEF_gt=54.9790 \tEF_pred=54.5625 \tdifference=0.7576%\n",
      "Patient 83 \tEF_gt=54.7572 \tEF_pred=51.0654 \tdifference=6.7421%\n",
      "Patient 85 \tEF_gt=59.8541 \tEF_pred=55.6472 \tdifference=7.0287%\n",
      "Patient 86 \tEF_gt=61.2069 \tEF_pred=62.9069 \tdifference=-2.7775%\n",
      "Patient 87 \tEF_gt=45.9645 \tEF_pred=38.8109 \tdifference=15.5633%\n",
      "Patient 88 \tEF_gt=48.4009 \tEF_pred=43.8783 \tdifference=9.3440%\n",
      "Patient 89 \tEF_gt=62.8382 \tEF_pred=55.0228 \tdifference=12.4374%\n",
      "Patient 92 \tEF_gt=61.1098 \tEF_pred=62.0983 \tdifference=-1.6176%\n",
      "Patient 94 \tEF_gt=42.5880 \tEF_pred=46.1926 \tdifference=-8.4640%\n",
      "Patient 96 \tEF_gt=50.8043 \tEF_pred=50.4873 \tdifference=0.6240%\n",
      "Patient 97 \tEF_gt=60.0709 \tEF_pred=58.7659 \tdifference=2.1724%\n",
      "Patient 98 \tEF_gt=56.1106 \tEF_pred=49.4408 \tdifference=11.8869%\n",
      "Patient 99 \tEF_gt=47.2519 \tEF_pred=44.0277 \tdifference=6.8234%\n",
      "Patient 100 \tEF_gt=57.8846 \tEF_pred=58.6156 \tdifference=-1.2629%\n",
      "\n",
      "Max (abs) EF difference = 25.22446033653531% (Training Set)\n",
      "Min (abs) EF difference = 0.12864566814109032% (Training Set)\n",
      "Mean EF difference = -25.22446033653531% (Training Set)\n",
      "Std EF difference = 9.279592147467355 (Training Set)\n"
     ]
    }
   ],
   "source": [
    "EF_predictions = []\n",
    "index = 0\n",
    "new_scale_factor = 1.0 # the cropping was performed with this number\n",
    "\n",
    "ef_differences = []\n",
    "for patient_id in train_ids:\n",
    "    ED_prediction = train_prediction[index:index+z_dim[patient_id-1]]\n",
    "    ES_prediction = train_prediction[index+z_dim[patient_id-1]:index+2*z_dim[patient_id-1]]\n",
    "    index = index + 2*z_dim[patient_id-1]\n",
    "    EF_prediction, strokevolume = calculate_EF(ED_prediction, ES_prediction, spacing=[1/new_scale_factor,1/new_scale_factor,spacing[patient_id-1][2]])\n",
    "    diff = (EF_gt[patient_id-1]-EF_prediction)/EF_gt[patient_id-1]*100\n",
    "    EF_predictions.append(EF_prediction)\n",
    "    ef_differences.append(diff)\n",
    "    print(f\"Patient {patient_id} \\tEF_gt={EF_gt[patient_id-1]:2.4f} \\tEF_pred={EF_prediction:2.4f} \\tdifference={diff:2.4f}%\")\n",
    "    \n",
    "# Calculate max, min, mean, std\n",
    "print(\"\\nMax (abs) EF difference = {}% (Training Set)\".format(np.amax(np.abs(ef_differences))))\n",
    "print(\"Min (abs) EF difference = {}% (Training Set)\".format(np.min(np.abs(ef_differences))))\n",
    "print(\"Mean EF difference = {}% (Training Set)\".format(np.min(ef_differences)))\n",
    "print(\"Std EF difference = {} (Training Set)\".format(np.std(ef_differences)))"
   ]
  },
  {
   "cell_type": "code",
   "execution_count": null,
   "metadata": {},
   "outputs": [],
   "source": []
  }
 ],
 "metadata": {
  "kernelspec": {
   "display_name": "Python 3",
   "language": "python",
   "name": "python3"
  },
  "language_info": {
   "codemirror_mode": {
    "name": "ipython",
    "version": 3
   },
   "file_extension": ".py",
   "mimetype": "text/x-python",
   "name": "python",
   "nbconvert_exporter": "python",
   "pygments_lexer": "ipython3",
   "version": "3.6.8"
  }
 },
 "nbformat": 4,
 "nbformat_minor": 2
}

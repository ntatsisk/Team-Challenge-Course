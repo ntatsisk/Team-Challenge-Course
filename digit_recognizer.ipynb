{
 "cells": [
  {
   "cell_type": "code",
   "execution_count": 1,
   "metadata": {},
   "outputs": [],
   "source": [
    "import numpy as np\n",
    "import tensorflow as tf\n",
    "from tensorflow import keras\n",
    "import pandas as pd\n",
    "import matplotlib.pyplot as plt"
   ]
  },
  {
   "cell_type": "code",
   "execution_count": 2,
   "metadata": {},
   "outputs": [],
   "source": [
    "# Read the data\n",
    "data = pd.read_csv(\"train.csv\")\n",
    "\n",
    "# Split into train 80% and test set 20%\n",
    "msk = np.random.rand(len(data)) < 0.8\n",
    "train = data[msk]\n",
    "test = data[~msk]\n",
    "\n",
    "# Split labels from pixels\n",
    "train_labels = np.array(train[\"label\"], dtype=float)\n",
    "test_labels = np.array(test[\"label\"], dtype=float)\n",
    "train = np.array(train.drop(columns=[\"label\"]))\n",
    "test = np.array(test.drop(columns=[\"label\"]))\n",
    "\n",
    "# Scale the data\n",
    "train = train / 255\n",
    "test = test / 255"
   ]
  },
  {
   "cell_type": "code",
   "execution_count": 3,
   "metadata": {},
   "outputs": [
    {
     "name": "stdout",
     "output_type": "stream",
     "text": [
      "Shape of train set:  (33708, 784)\n",
      "Shape of test set:  (8292, 784)\n",
      "Shape of train labels:  (33708,)\n",
      "Shape of test labels:  (8292,)\n"
     ]
    }
   ],
   "source": [
    "print(\"Shape of train set: \", train.shape)\n",
    "print(\"Shape of test set: \", test.shape)\n",
    "print(\"Shape of train labels: \", train_labels.shape)\n",
    "print(\"Shape of test labels: \", test_labels.shape)"
   ]
  },
  {
   "cell_type": "code",
   "execution_count": 4,
   "metadata": {},
   "outputs": [
    {
     "data": {
      "image/png": "[encoded data removed]",
      "text/plain": [
       "<Figure size 576x576 with 25 Axes>"
      ]
     },
     "metadata": {},
     "output_type": "display_data"
    }
   ],
   "source": [
    "fig = plt.figure(figsize=(8,8))\n",
    "fig.subplots_adjust(hspace=0.05, wspace=0.05)\n",
    "for i in range(1, 26):\n",
    "    ax = fig.add_subplot(5, 5, i)\n",
    "    idx = np.random.randint(train.shape[0])\n",
    "    plt.imshow(np.reshape(train[idx, :] , [28, 28]), cmap=\"gray\")\n",
    "    plt.xticks([])\n",
    "    plt.yticks([])"
   ]
  },
  {
   "cell_type": "code",
   "execution_count": 5,
   "metadata": {},
   "outputs": [],
   "source": [
    "# Source: https://www.kaggle.com/mjwheele/mnist-number-neural-network\n",
    "\n",
    "# Create model\n",
    "model = keras.models.Sequential([\n",
    "    keras.layers.Dense(784),                            \n",
    "\n",
    "    keras.layers.Dense(128, activation=tf.nn.relu),     \n",
    "                                                        \n",
    "    keras.layers.Dense(10, activation=tf.nn.softmax)    \n",
    "])"
   ]
  },
  {
   "cell_type": "code",
   "execution_count": 6,
   "metadata": {},
   "outputs": [],
   "source": [
    "# Compile model\n",
    "model.compile(optimizer='adam',\n",
    "              loss='sparse_categorical_crossentropy',\n",
    "              metrics=['accuracy'])"
   ]
  },
  {
   "cell_type": "code",
   "execution_count": 7,
   "metadata": {},
   "outputs": [
    {
     "name": "stdout",
     "output_type": "stream",
     "text": [
      "Epoch 1/5\n",
      "33708/33708 [==============================] - 17s 506us/step - loss: 0.2671 - acc: 0.9203\n",
      "Epoch 2/5\n",
      "33708/33708 [==============================] - 18s 530us/step - loss: 0.1483 - acc: 0.9550\n",
      "Epoch 3/5\n",
      "33708/33708 [==============================] - 17s 517us/step - loss: 0.1229 - acc: 0.9616\n",
      "Epoch 4/5\n",
      "33708/33708 [==============================] - 17s 514us/step - loss: 0.1016 - acc: 0.9686\n",
      "Epoch 5/5\n",
      "33708/33708 [==============================] - 19s 553us/step - loss: 0.0833 - acc: 0.9742\n"
     ]
    },
    {
     "data": {
      "text/plain": [
       "<tensorflow.python.keras.callbacks.History at 0x22fd896c898>"
      ]
     },
     "execution_count": 7,
     "metadata": {},
     "output_type": "execute_result"
    }
   ],
   "source": [
    "# Fit model to train data\n",
    "model.fit(train, train_labels, epochs=5)"
   ]
  },
  {
   "cell_type": "code",
   "execution_count": 8,
   "metadata": {},
   "outputs": [
    {
     "name": "stdout",
     "output_type": "stream",
     "text": [
      "8292/8292 [==============================] - 1s 115us/step\n"
     ]
    }
   ],
   "source": [
    "# Evaluate model on test set\n",
    "test_loss, test_acc = model.evaluate(test, test_labels)"
   ]
  },
  {
   "cell_type": "code",
   "execution_count": 9,
   "metadata": {},
   "outputs": [
    {
     "name": "stdout",
     "output_type": "stream",
     "text": [
      "The model has 96.50% overall accuracy.\n"
     ]
    }
   ],
   "source": [
    "print(\"The model has %.2f%% overall accuracy.\" % (100*test_acc))"
   ]
  },
  {
   "cell_type": "code",
   "execution_count": null,
   "metadata": {},
   "outputs": [],
   "source": []
  }
 ],
 "metadata": {
  "kernelspec": {
   "display_name": "Python 3",
   "language": "python",
   "name": "python3"
  },
  "language_info": {
   "codemirror_mode": {
    "name": "ipython",
    "version": 3
   },
   "file_extension": ".py",
   "mimetype": "text/x-python",
   "name": "python",
   "nbconvert_exporter": "python",
   "pygments_lexer": "ipython3",
   "version": "3.6.8"
  }
 },
 "nbformat": 4,
 "nbformat_minor": 2
}
